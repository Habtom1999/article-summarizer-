{
 "cells": [
  {
   "cell_type": "markdown",
   "metadata": {},
   "source": [
    "# Web Mining and Applied NLP (44-620)\n",
    "\n",
    "## Final Project: Article Summarizer\n",
    "\n",
    "### Student Name: Habtom Woldu \n",
    "\n",
    "Perform the tasks described in the Markdown cells below.  When you have completed the assignment make sure your code cells have all been run (and have output beneath them) and ensure you have committed and pushed ALL of your changes to your assignment repository.\n",
    "\n",
    "You should bring in code from previous assignments to help you answer the questions below.\n",
    "\n",
    "Every question that requires you to write code will have a code cell underneath it; you may either write your entire solution in that cell or write it in a python file (`.py`), then import and run the appropriate code to answer the question."
   ]
  },
  {
   "cell_type": "code",
   "execution_count": 109,
   "metadata": {},
   "outputs": [
    {
     "name": "stdout",
     "output_type": "stream",
     "text": [
      "Package             Version\n",
      "------------------- -----------\n",
      "annotated-types     0.6.0\n",
      "asttokens           2.4.1\n",
      "beautifulsoup4      4.12.3\n",
      "blis                0.7.11\n",
      "catalogue           2.0.10\n",
      "certifi             2024.2.2\n",
      "charset-normalizer  3.3.2\n",
      "click               8.1.7\n",
      "cloudpathlib        0.16.0\n",
      "colorama            0.4.6\n",
      "comm                0.2.2\n",
      "confection          0.1.4\n",
      "contourpy           1.2.1\n",
      "cycler              0.12.1\n",
      "cymem               2.0.8\n",
      "debugpy             1.8.1\n",
      "decorator           5.1.1\n",
      "en-core-web-sm      3.7.1\n",
      "exceptiongroup      1.2.0\n",
      "executing           2.0.1\n",
      "fonttools           4.51.0\n",
      "html5lib            1.1\n",
      "idna                3.6\n",
      "importlib_metadata  7.1.0\n",
      "importlib_resources 6.4.0\n",
      "ipykernel           6.29.4\n",
      "ipython             8.18.1\n",
      "jedi                0.19.1\n",
      "Jinja2              3.1.3\n",
      "joblib              1.4.0\n",
      "jupyter_client      8.6.1\n",
      "jupyter_core        5.7.2\n",
      "kiwisolver          1.4.5\n",
      "langcodes           3.3.0\n",
      "MarkupSafe          2.1.5\n",
      "matplotlib          3.8.4\n",
      "matplotlib-inline   0.1.6\n",
      "murmurhash          1.0.10\n",
      "nest-asyncio        1.6.0\n",
      "nltk                3.8.1\n",
      "numpy               1.26.4\n",
      "packaging           24.0\n",
      "parso               0.8.4\n",
      "pillow              10.3.0\n",
      "pip                 24.0\n",
      "platformdirs        4.2.0\n",
      "preshed             3.0.9\n",
      "prompt-toolkit      3.0.43\n",
      "psutil              5.9.8\n",
      "pure-eval           0.2.2\n",
      "pydantic            2.6.4\n",
      "pydantic_core       2.16.3\n",
      "Pygments            2.17.2\n",
      "pyparsing           3.1.2\n",
      "python-dateutil     2.9.0.post0\n",
      "pywin32             306\n",
      "pyzmq               25.1.2\n",
      "regex               2023.12.25\n",
      "requests            2.31.0\n",
      "setuptools          58.1.0\n",
      "six                 1.16.0\n",
      "smart-open          6.4.0\n",
      "soupsieve           2.5\n",
      "spacy               3.7.4\n",
      "spacy-legacy        3.0.12\n",
      "spacy-loggers       1.0.5\n",
      "spacytextblob       4.0.0\n",
      "srsly               2.4.8\n",
      "stack-data          0.6.3\n",
      "textblob            0.15.3\n",
      "thinc               8.2.3\n",
      "tornado             6.4\n",
      "tqdm                4.66.2\n",
      "traitlets           5.14.2\n",
      "typer               0.9.4\n",
      "typing_extensions   4.11.0\n",
      "urllib3             2.2.1\n",
      "wasabi              1.1.2\n",
      "wcwidth             0.2.13\n",
      "weasel              0.3.4\n",
      "webencodings        0.5.1\n",
      "zipp                3.18.1\n",
      "All prereqs installed.\n"
     ]
    }
   ],
   "source": [
    "# Create and activate a Python virtual environment. \n",
    "# Before starting the project, try all these imports FIRST\n",
    "# Address any errors you get running this code cell \n",
    "# by installing the necessary packages into your active Python environment.\n",
    "# Try to resolve issues using your materials and the web.\n",
    "# If that doesn't work, ask for help in the discussion forums.\n",
    "# You can't complete the exercises until you import these - start early! \n",
    "# We also import pickle and Counter (included in the Python Standard Library).\n",
    "\n",
    "from collections import Counter\n",
    "import pickle\n",
    "import requests\n",
    "import spacy\n",
    "from bs4 import BeautifulSoup\n",
    "import matplotlib.pyplot as plt\n",
    "# from spacytextblob.spacytextblob import SpacyTextBlob\n",
    "from spacytextblob.spacytextblob import SpacyTextBlob\n",
    "\n",
    "\n",
    "\n",
    "\n",
    "!pip list\n",
    "\n",
    "print('All prereqs installed.')"
   ]
  },
  {
   "cell_type": "markdown",
   "metadata": {},
   "source": [
    "The link provided the article I am intersted in https://www.ncbi.nlm.nih.gov/pmc/articles/PMC7951562/\n"
   ]
  },
  {
   "cell_type": "markdown",
   "metadata": {},
   "source": [
    "1. Find on the internet an article or blog post about a topic that interests you and you are able to get the text for using the technologies we have applied in the course.  Get the html for the article and store it in a file (which you must submit with your project)"
   ]
  },
  {
   "cell_type": "code",
   "execution_count": 117,
   "metadata": {},
   "outputs": [],
   "source": [
    "import requests\n",
    "import pickle\n",
    "r= requests.get(\"https://www.nature.com/articles/s41598-023-41478-7\")\n",
    "with open('python-match.pkl','wb') as f:\n",
    "    pickle.dump(r.text,f)"
   ]
  },
  {
   "cell_type": "code",
   "execution_count": 118,
   "metadata": {},
   "outputs": [
    {
     "name": "stdout",
     "output_type": "stream",
     "text": [
      "Article content dumped to article_content.pkl\n"
     ]
    }
   ],
   "source": [
    "import requests\n",
    "from bs4 import BeautifulSoup\n",
    "import pickle\n",
    "\n",
    "# URL of the webpage\n",
    "url = (\"https://www.nature.com/articles/s41598-023-41478-7\")\n",
    "with open('python-match.pkl', 'rb') as f:\n",
    "    htmldoc = pickle.load(f)\n",
    "# Fetch the webpage content\n",
    "response = requests.get(url)\n",
    "article_page = requests.get(url)\n",
    "article_html= article_page.text\n",
    "# Parse the HTML content\n",
    "soup = BeautifulSoup(response.content, 'html.parser')\n",
    "\n",
    "# Find the article content\n",
    "article_content = soup.find('article').prettify()\n",
    "\n",
    "\n",
    "\n",
    "print(\"Article content dumped to article_content.pkl\")"
   ]
  },
  {
   "cell_type": "markdown",
   "metadata": {},
   "source": [
    "2. Read in your article's html source from the file you created in question 1 and do sentiment analysis on the article/post's text (use `.get_text()`).  Print the polarity score with an appropriate label.  Additionally print the number of sentences in the original article (with an appropriate label)"
   ]
  },
  {
   "cell_type": "code",
   "execution_count": 127,
   "metadata": {},
   "outputs": [
    {
     "name": "stdout",
     "output_type": "stream",
     "text": [
      "Polarity Score of the Article: 0.0783832733809628\n",
      "Number of Sentences in Article: 431\n"
     ]
    }
   ],
   "source": [
    "import pickle \n",
    "import spacy\n",
    "from bs4 import BeautifulSoup\n",
    "from spacytextblob.spacytextblob import SpacyTextBlob\n",
    "\n",
    "with open('python-match.pkl', 'rb') as f:  \n",
    "    htmldoc = pickle.load(f)\n",
    "\n",
    "soup = BeautifulSoup(htmldoc, 'html.parser')\n",
    "\n",
    "# Find the article element\n",
    "article_element = soup.find(\"article\")\n",
    "\n",
    "# Check if article_element is None\n",
    "if article_element is None:\n",
    "    print(\"Article element not found. HTML content:\")\n",
    "    print(soup.prettify())\n",
    "    # Add additional handling if necessary\n",
    "else:\n",
    "    # Get the text content of the article\n",
    "    article_text = article_element.get_text()\n",
    "    \n",
    "    # Load spaCy model\n",
    "    nlp = spacy.load('en_core_web_sm')\n",
    "    nlp.add_pipe('spacytextblob')\n",
    "    \n",
    "    # Process the text with spaCy\n",
    "    doc = nlp(article_text)\n",
    "    \n",
    "    # Print the polarity score of the article\n",
    "    print(\"Polarity Score of the Article:\", doc._.blob.polarity)\n",
    "i=0\n",
    " # Count the number of sentences in the article\n",
    "num_sentences = len(list(doc.sents))\n",
    "print(\"Number of Sentences in Article:\", num_sentences)\n"
   ]
  },
  {
   "cell_type": "markdown",
   "metadata": {},
   "source": [
    "3. Load the article text into a trained `spaCy` pipeline, and determine the 5 most frequent tokens (converted to lower case).  Print the common tokens with an appropriate label.  Additionally, print the tokens their frequencies (with appropriate labels)"
   ]
  },
  {
   "cell_type": "code",
   "execution_count": 130,
   "metadata": {},
   "outputs": [
    {
     "name": "stdout",
     "output_type": "stream",
     "text": [
      "Top 5 most frequent tokens and their frequencies:\n",
      "covid-19: 131\n",
      "vaccine: 109\n",
      "vaccines: 100\n",
      "tweets: 80\n",
      "countries: 56\n"
     ]
    }
   ],
   "source": [
    "import spacy\n",
    "from spacytextblob.spacytextblob import SpacyTextBlob\n",
    "import pickle\n",
    "from bs4 import BeautifulSoup\n",
    "from collections import Counter\n",
    "\n",
    "# Load the HTML content from the pickle file\n",
    "with open('python-match.pkl', 'rb') as f:\n",
    "    htmldoc = pickle.load(f)\n",
    "\n",
    "# Parse the HTML content using BeautifulSoup\n",
    "soup = BeautifulSoup(htmldoc, 'html5lib')\n",
    "\n",
    "# Find the article text\n",
    "text = soup.find('article').get_text()\n",
    "\n",
    "# Load the spaCy model\n",
    "nlp = spacy.load('en_core_web_sm')\n",
    "\n",
    "# Add the SpacyTextBlob component to the pipeline\n",
    "nlp.add_pipe('spacytextblob')\n",
    "\n",
    "# Process the article text with spaCy\n",
    "doc = nlp(text)\n",
    "\n",
    "# Define function to filter out non-important tokens\n",
    "def cool_words(token):\n",
    "    return not (token.is_space or token.is_punct or token.is_stop)\n",
    "\n",
    "# Extract important tokens\n",
    "important_tokens = [token.text.lower() for token in doc if cool_words(token)]\n",
    "\n",
    "# Count the frequencies of the lowercase important tokens\n",
    "word_freq = Counter(important_tokens)\n",
    "\n",
    "# Print the 5 most common tokens and their frequencies\n",
    "print(\"Top 5 most frequent tokens and their frequencies:\")\n",
    "for token, freq in word_freq.most_common(5):\n",
    "    print(f\"{token}: {freq}\")\n"
   ]
  },
  {
   "cell_type": "markdown",
   "metadata": {},
   "source": [
    "4. Load the article text into a trained `spaCy` pipeline, and determine the 5 most frequent lemmas (converted to lower case).  Print the common lemmas with an appropriate label.  Additionally, print the lemmas with their frequencies (with appropriate labels)."
   ]
  },
  {
   "cell_type": "code",
   "execution_count": 132,
   "metadata": {},
   "outputs": [
    {
     "name": "stdout",
     "output_type": "stream",
     "text": [
      "Top 5 most frequent lemmas and their frequencies:\n",
      "vaccine: 208\n",
      "covid-19: 131\n",
      "tweet: 85\n",
      "country: 76\n",
      "vaccination: 58\n"
     ]
    }
   ],
   "source": [
    "import spacy\n",
    "from spacytextblob.spacytextblob import SpacyTextBlob\n",
    "import pickle\n",
    "from bs4 import BeautifulSoup\n",
    "from collections import Counter\n",
    "\n",
    "# Load the HTML content from the pickle file\n",
    "with open('python-match.pkl', 'rb') as f:\n",
    "    htmldoc = pickle.load(f)\n",
    "\n",
    "# Parse the HTML content using BeautifulSoup\n",
    "soup = BeautifulSoup(htmldoc, 'html5lib')\n",
    "\n",
    "# Find the article text\n",
    "text = soup.find('article').get_text()\n",
    "\n",
    "# Load the spaCy model\n",
    "nlp = spacy.load('en_core_web_sm')\n",
    "\n",
    "# Add the SpacyTextBlob component to the pipeline\n",
    "nlp.add_pipe('spacytextblob')\n",
    "\n",
    "# Process the article text with spaCy\n",
    "doc = nlp(text)\n",
    "\n",
    "# Define function to filter out non-important tokens\n",
    "def cool_words(token):\n",
    "    return not (token.is_space or token.is_punct or token.is_stop)\n",
    "\n",
    "# Extract important lemmas\n",
    "important_lemmas = [token.lemma_.lower() for token in doc if cool_words(token)]\n",
    "\n",
    "# Count the frequencies of the lowercase important lemmas\n",
    "word_freq = Counter(important_lemmas)\n",
    "\n",
    "# Print the 5 most common lemmas and their frequencies\n",
    "print(\"Top 5 most frequent lemmas and their frequencies:\")\n",
    "for lemma, freq in word_freq.most_common(5):\n",
    "    print(f\"{lemma}: {freq}\")\n"
   ]
  },
  {
   "cell_type": "markdown",
   "metadata": {},
   "source": [
    "5. Make a list containing the scores (using tokens) of every sentence in the article, and plot a histogram with appropriate titles and axis labels of the scores. From your histogram, what seems to be the most common range of scores (put the answer in a comment after your code)?"
   ]
  },
  {
   "cell_type": "code",
   "execution_count": 133,
   "metadata": {},
   "outputs": [
    {
     "data": {
      "image/png": "[encoded data removed]",
      "text/plain": [
       "<Figure size 640x480 with 1 Axes>"
      ]
     },
     "metadata": {},
     "output_type": "display_data"
    }
   ],
   "source": [
    "import spacy\n",
    "from spacytextblob.spacytextblob import SpacyTextBlob\n",
    "import pickle\n",
    "from bs4 import BeautifulSoup\n",
    "import matplotlib.pyplot as plt\n",
    "\n",
    "# Load the HTML content from the pickle file\n",
    "with open('python-match.pkl', 'rb') as f:\n",
    "    htmldoc = pickle.load(f)\n",
    "\n",
    "# Parse the HTML content using BeautifulSoup\n",
    "soup = BeautifulSoup(htmldoc, 'html5lib')\n",
    "\n",
    "# Find the article text\n",
    "text = soup.find('article').get_text()\n",
    "\n",
    "# Load the spaCy model\n",
    "nlp = spacy.load('en_core_web_sm')\n",
    "\n",
    "# Add the SpacyTextBlob component to the pipeline\n",
    "nlp.add_pipe('spacytextblob')\n",
    "\n",
    "# Process the article text with spaCy\n",
    "doc = nlp(text)\n",
    "\n",
    "# Calculate sentiment scores for each sentence\n",
    "sentence_scores = [sentence._.polarity for sentence in doc.sents]\n",
    "\n",
    "# Plot a histogram of the sentence scores\n",
    "plt.hist(sentence_scores, bins=20, color='skyblue', edgecolor='black')\n",
    "plt.title('Distribution of Sentence Sentiment Scores')\n",
    "plt.xlabel('Sentiment Score')\n",
    "plt.ylabel('Frequency')\n",
    "plt.show()\n"
   ]
  },
  {
   "cell_type": "markdown",
   "metadata": {},
   "source": [
    "6. Make a list containing the scores (using lemmas) of every sentence in the article, and plot a histogram with appropriate titles and axis labels of the scores.  From your histogram, what seems to be the most common range of scores (put the answer in a comment after your code)?"
   ]
  },
  {
   "cell_type": "code",
   "execution_count": null,
   "metadata": {},
   "outputs": [],
   "source": []
  },
  {
   "cell_type": "markdown",
   "metadata": {},
   "source": [
    "7. Using the histograms from questions 5 and 6, decide a \"cutoff\" score for tokens and lemmas such that fewer than half the sentences would have a score greater than the cutoff score.  Record the scores in this Markdown cell\n",
    "\n",
    "* Cutoff Score (tokens): \n",
    "* Cutoff Score (lemmas):\n",
    "\n",
    "Feel free to change these scores as you generate your summaries.  Ideally, we're shooting for at least 6 sentences for our summary, but don't want more than 10 (these numbers are rough estimates; they depend on the length of your article)."
   ]
  },
  {
   "cell_type": "markdown",
   "metadata": {},
   "source": [
    "8. Create a summary of the article by going through every sentence in the article and adding it to an (initially) empty list if its score (based on tokens) is greater than the cutoff score you identified in question 8.  If your loop variable is named `sent`, you may find it easier to add `sent.text.strip()` to your list of sentences.  Print the summary (I would cleanly generate the summary text by `join`ing the strings in your list together with a space (`' '.join(sentence_list)`)."
   ]
  },
  {
   "cell_type": "code",
   "execution_count": null,
   "metadata": {},
   "outputs": [],
   "source": []
  },
  {
   "cell_type": "markdown",
   "metadata": {},
   "source": [
    "9. Print the polarity score of your summary you generated with the token scores (with an appropriate label). Additionally, print the number of sentences in the summarized article."
   ]
  },
  {
   "cell_type": "code",
   "execution_count": null,
   "metadata": {},
   "outputs": [],
   "source": []
  },
  {
   "cell_type": "markdown",
   "metadata": {},
   "source": [
    "10. Create a summary of the article by going through every sentence in the article and adding it to an (initially) empty list if its score (based on lemmas) is greater than the cutoff score you identified in question 8.  If your loop variable is named `sent`, you may find it easier to add `sent.text.strip()` to your list of sentences.  Print the summary (I would cleanly generate the summary text by `join`ing the strings in your list together with a space (`' '.join(sentence_list)`)."
   ]
  },
  {
   "cell_type": "code",
   "execution_count": null,
   "metadata": {},
   "outputs": [],
   "source": []
  },
  {
   "cell_type": "markdown",
   "metadata": {},
   "source": [
    "11. Print the polarity score of your summary you generated with the lemma scores (with an appropriate label). Additionally, print the number of sentences in the summarized article."
   ]
  },
  {
   "cell_type": "code",
   "execution_count": null,
   "metadata": {},
   "outputs": [],
   "source": []
  },
  {
   "cell_type": "markdown",
   "metadata": {},
   "source": [
    "12.  Compare your polarity scores of your summaries to the polarity scores of the initial article.  Is there a difference?  Why do you think that may or may not be?.  Answer in this Markdown cell.  "
   ]
  },
  {
   "cell_type": "markdown",
   "metadata": {},
   "source": [
    "13. Based on your reading of the original article, which summary do you think is better (if there's a difference).  Why do you think this might be?"
   ]
  }
 ],
 "metadata": {
  "kernelspec": {
   "display_name": "Python 3",
   "language": "python",
   "name": "python3"
  },
  "language_info": {
   "codemirror_mode": {
    "name": "ipython",
    "version": 3
   },
   "file_extension": ".py",
   "mimetype": "text/x-python",
   "name": "python",
   "nbconvert_exporter": "python",
   "pygments_lexer": "ipython3",
   "version": "3.9.13"
  }
 },
 "nbformat": 4,
 "nbformat_minor": 4
}
